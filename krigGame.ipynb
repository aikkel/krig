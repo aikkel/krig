{
 "cells": [
  {
   "cell_type": "markdown",
   "metadata": {},
   "source": [
    "Imports"
   ]
  },
  {
   "cell_type": "code",
   "execution_count": 8,
   "metadata": {},
   "outputs": [],
   "source": [
    "import random"
   ]
  },
  {
   "cell_type": "markdown",
   "metadata": {},
   "source": [
    "Liste over deck"
   ]
  },
  {
   "cell_type": "code",
   "execution_count": 9,
   "metadata": {},
   "outputs": [
    {
     "name": "stdout",
     "output_type": "stream",
     "text": [
      "[2, 3, 4, 5, 6, 7, 8, 9, 10, 11, 12, 13, 14, 2, 3, 4, 5, 6, 7, 8, 9, 10, 11, 12, 13, 14, 2, 3, 4, 5, 6, 7, 8, 9, 10, 11, 12, 13, 14, 2, 3, 4, 5, 6, 7, 8, 9, 10, 11, 12, 13, 14]\n"
     ]
    }
   ],
   "source": [
    "\n",
    "deck = [2,3,4,5,6,7,8,9,10,11,12,13,14]*4\n",
    "\n",
    "print(deck)"
   ]
  },
  {
   "cell_type": "code",
   "execution_count": 10,
   "metadata": {},
   "outputs": [
    {
     "name": "stdout",
     "output_type": "stream",
     "text": [
      "[7, 10, 10, 2, 2, 5, 14, 9, 2, 10, 8, 3, 11, 2, 6, 8, 4, 14, 5, 3, 13, 14, 6, 12, 7, 7, 12, 13, 4, 13, 11, 11, 4, 8, 13, 6, 14, 5, 12, 10, 4, 6, 8, 12, 11, 9, 5, 7, 3, 9, 9, 3]\n"
     ]
    }
   ],
   "source": [
    "random.shuffle(deck)\n",
    "\n",
    "print(deck)"
   ]
  },
  {
   "cell_type": "markdown",
   "metadata": {},
   "source": [
    "Step 2, slice til playerdecks"
   ]
  },
  {
   "cell_type": "code",
   "execution_count": 11,
   "metadata": {},
   "outputs": [
    {
     "name": "stdout",
     "output_type": "stream",
     "text": [
      "[7, 10, 2, 14, 2, 8, 11, 6, 4, 5, 13, 6, 7, 12, 4, 11, 4, 13, 14, 12, 4, 8, 11, 5, 3, 9]\n",
      "[10, 2, 5, 9, 10, 3, 2, 8, 14, 3, 14, 12, 7, 13, 13, 11, 8, 6, 5, 10, 6, 12, 9, 7, 9, 3]\n"
     ]
    }
   ],
   "source": [
    "player1_deck = deck[::2]\n",
    "player2_deck = deck[1::2]\n",
    "\n",
    "print(player1_deck)\n",
    "print(player2_deck)\n",
    "\n"
   ]
  },
  {
   "cell_type": "code",
   "execution_count": 12,
   "metadata": {},
   "outputs": [],
   "source": [
    "# Ascii art for wins, only for fun, not readable in terminal if war is too long\n",
    "p1_wins = \"\"\"\n",
    "###   #      ##   # #   ####  ###          #          #  #  ###   #  #   ##   \n",
    "#  #  #     #  #  # #   #     #  #        ##          #  #   #    ## #  #  #  \n",
    "#  #  #     #  #  # #   ###   #  #         #          #  #   #    ## #   #    \n",
    "###   #     ####   #    #     ###          #          ####   #    # ##    #   \n",
    "#     #     #  #   #    #     # #          #          ####   #    # ##  #  #  \n",
    "#     ####  #  #   #    ####  #  #        ###         #  #  ###   #  #   ##    \n",
    "\"\"\"\n",
    "\n",
    "\n",
    "p2_wins = \"\"\"\n",
    "###   #      ##   # #   ####  ###          ##         #  #  ###   #  #   ##   \n",
    "#  #  #     #  #  # #   #     #  #        #  #        #  #   #    ## #  #  #  \n",
    "#  #  #     #  #  # #   ###   #  #           #        #  #   #    ## #   #    \n",
    "###   #     ####   #    #     ###           #         ####   #    # ##    #   \n",
    "#     #     #  #   #    #     # #          #          ####   #    # ##  #  #  \n",
    "#     ####  #  #   #    ####  #  #        ####        #  #  ###   #  #   ##   \n",
    "                                                                              \n",
    "\"\"\""
   ]
  },
  {
   "cell_type": "markdown",
   "metadata": {},
   "source": [
    "Step 3: i spillet"
   ]
  },
  {
   "cell_type": "code",
   "execution_count": 13,
   "metadata": {},
   "outputs": [
    {
     "name": "stdout",
     "output_type": "stream",
     "text": [
      "WAR!\n",
      "WAR!\n",
      "WAR!\n",
      "WAR!\n",
      "WAR!\n",
      "WAR!\n",
      "WAR!\n",
      "WAR!\n",
      "WAR!\n",
      "WAR!\n",
      "WAR!\n",
      "WAR!\n",
      "WAR!\n",
      "WAR!\n",
      "Player 1 is out of cards! Shuffling wins back into deck.\n",
      "Player 2 is out of cards! Shuffling wins back into deck.\n",
      "WAR!\n",
      "WAR!\n",
      "WAR!\n",
      "WAR!\n",
      "WAR!\n",
      "WAR!\n",
      "Player 1 is out of cards! Shuffling wins back into deck.\n",
      "WAR!\n",
      "WAR!\n",
      "WAR!\n",
      "WAR!\n",
      "WAR!\n",
      "WAR!\n",
      "WAR!\n",
      "WAR!\n",
      "WAR!\n",
      "WAR!\n",
      "WAR!\n",
      "WAR!\n",
      "WAR!\n",
      "WAR!\n",
      "WAR!\n",
      "Player 1 is out of cards! Shuffling wins back into deck.\n",
      "WAR!\n",
      "WAR!\n",
      "WAR!\n",
      "WAR!\n",
      "WAR!\n",
      "WAR!\n",
      "WAR!\n",
      "Player 1 is out of cards! Shuffling wins back into deck.\n",
      "WAR!\n",
      "Player 1 is out of cards! Shuffling wins back into deck.\n",
      "WAR!\n",
      "WAR!\n",
      "WAR!\n",
      "Player 1 is out of cards! Shuffling wins back into deck.\n",
      "WAR!\n",
      "WAR!\n",
      "Player 1 is out of cards! Shuffling wins back into deck.\n",
      "WAR!\n",
      "WAR!\n",
      "Player 2 is out of cards! Shuffling wins back into deck.\n",
      "Player 1 is out of cards! Shuffling wins back into deck.\n",
      "WAR!\n",
      "WAR!\n",
      "WAR!\n",
      "WAR!\n",
      "WAR!\n",
      "WAR!\n",
      "WAR!\n",
      "WAR!\n",
      "WAR!\n",
      "WAR!\n",
      "WAR!\n",
      "Player 1 is out of cards! Shuffling wins back into deck.\n",
      "WAR!\n",
      "Player 1 is out of cards! Shuffling wins back into deck.\n",
      "WAR!\n",
      "WAR!\n",
      "WAR!\n",
      "WAR!\n",
      "WAR!\n",
      "WAR!\n",
      "WAR!\n",
      "Player 1 is out of cards! Shuffling wins back into deck.\n",
      "WAR!\n",
      "WAR!\n",
      "WAR!\n",
      "WAR!\n",
      "WAR!\n",
      "WAR!\n",
      "WAR!\n",
      "Player 1 is out of cards! Shuffling wins back into deck.\n",
      "WAR!\n",
      "WAR!\n",
      "WAR!\n",
      "WAR!\n",
      "WAR!\n",
      "WAR!\n",
      "WAR!\n",
      "WAR!\n",
      "WAR!\n",
      "WAR!\n",
      "Player 1 is out of cards! Shuffling wins back into deck.\n",
      "WAR!\n",
      "WAR!\n",
      "WAR!\n",
      "WAR!\n",
      "WAR!\n",
      "Player 1 is out of cards! Shuffling wins back into deck.\n",
      "WAR!\n",
      "WAR!\n",
      "WAR!\n",
      "WAR!\n",
      "Player 1 is out of cards and has win pile is empty, Player 2 wins the game.\n",
      "\n",
      "###   #      ##   # #   ####  ###          ##         #  #  ###   #  #   ##   \n",
      "#  #  #     #  #  # #   #     #  #        #  #        #  #   #    ## #  #  #  \n",
      "#  #  #     #  #  # #   ###   #  #           #        #  #   #    ## #   #    \n",
      "###   #     ####   #    #     ###           #         ####   #    # ##    #   \n",
      "#     #     #  #   #    #     # #          #          ####   #    # ##  #  #  \n",
      "#     ####  #  #   #    ####  #  #        ####        #  #  ###   #  #   ##   \n",
      "                                                                              \n",
      "\n"
     ]
    }
   ],
   "source": [
    "# player1_wins and player2_wins are the piles where we collect the winning cards for each player.\n",
    "# beware that war has no exit condition, so it can go on forever if the decks are not reshuffled at some point.\n",
    "player1_wins = []\n",
    "player2_wins = []\n",
    "# game loop \n",
    "while True:\n",
    "# Checks if a player is out of cards\n",
    "    if len(player1_deck) == 0:\n",
    "        if len(player1_wins) == 0:\n",
    "            print(\"Player 1 is out of cards and has win pile is empty, Player 2 wins the game.\")\n",
    "            print(p2_wins)\n",
    "            break\n",
    "        else:\n",
    "            print(\"Player 1 is out of cards! Shuffling wins back into deck.\")\n",
    "            player1_deck.extend(player1_wins)\n",
    "            player1_wins = []\n",
    "\n",
    "    if len(player2_deck) == 0:\n",
    "        if len(player2_wins) == 0:\n",
    "            print(\"Player 2 is out of cards and win plie is empty, Player 1 wins the game.\")\n",
    "            print(p1_wins)\n",
    "            break\n",
    "        else:\n",
    "            print(\"Player 2 is out of cards! Shuffling wins back into deck.\")\n",
    "            player2_deck.extend(player2_wins)\n",
    "            player2_wins = [] \n",
    "   # Each player draws a card\n",
    "    card1 = player1_deck.pop(0)\n",
    "    card2 = player2_deck.pop(0) \n",
    "   # Compare the cards and add them to the winner's pile\n",
    "    if card1 > card2:\n",
    "     player1_wins.extend([card1, card2])\n",
    "    elif card2 > card1:\n",
    "        player2_wins.extend([card2, card1])\n",
    "  \n",
    "   \n",
    " # If it's a tie, a war begins\n",
    "        print(\"WAR!\")\n",
    "        war_pile = [card1, card2]\n",
    "        while card1 == card2:\n",
    "            # Check if players have enough cards for war\n",
    "            if len(player1_deck) < 4:\n",
    "                if len(player1_deck) == 0:\n",
    "                    print(\"Player 1 out of cards! Player 2 wins the war.\")\n",
    "                    player2_wins.extend(war_pile)\n",
    "                    break\n",
    "                else:\n",
    "                    print(\"Player 1 can't play a war. Playing last card.\")\n",
    "                    war_pile.extend(player1_deck)\n",
    "                    card1 = player1_deck.pop()\n",
    "            else:\n",
    "                war_pile.extend(player1_deck.pop(0) for _ in range(3))\n",
    "                card1 = player1_deck.pop(0)\n",
    "\n",
    "            if len(player2_deck) < 4:\n",
    "                if len(player2_deck) == 0:\n",
    "                    print(\"Player 2 out of cards! Player 1 wins the war.\")\n",
    "                    player1_wins.extend(war_pile)\n",
    "                    break\n",
    "                else:\n",
    "                    print(\"Player 2 can't play a war. Playing last card.\")\n",
    "                    war_pile.extend(player2_deck)\n",
    "                    card2 = player2_deck.pop()\n",
    "            else:\n",
    "                war_pile.extend(player2_deck.pop(0) for _ in range(3))\n",
    "                card2 = player2_deck.pop(0)\n",
    "\n",
    "            war_pile.extend([card1, card2])\n",
    "\n",
    "        # The player with the higher face-up card takes all the cards\n",
    "        if card1 > card2:\n",
    "            player1_wins.extend(war_pile + [card1, card2])\n",
    "        elif card2 > card1:\n",
    "            player2_wins.extend(war_pile + [card2, card1])\n",
    "        else:\n",
    "            # If it's still a tie, the war continues until one player has less than 4 cards\n",
    "            print(\"The war continues...\")"
   ]
  }
 ],
 "metadata": {
  "kernelspec": {
   "display_name": "Python 3",
   "language": "python",
   "name": "python3"
  },
  "language_info": {
   "codemirror_mode": {
    "name": "ipython",
    "version": 3
   },
   "file_extension": ".py",
   "mimetype": "text/x-python",
   "name": "python",
   "nbconvert_exporter": "python",
   "pygments_lexer": "ipython3",
   "version": "3.12.2"
  }
 },
 "nbformat": 4,
 "nbformat_minor": 2
}
